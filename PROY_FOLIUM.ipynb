{
 "cells": [
  {
   "cell_type": "code",
   "execution_count": 1,
   "metadata": {
    "collapsed": true,
    "deletable": true,
    "editable": true
   },
   "outputs": [],
   "source": [
    "import folium\n",
    "import pandas as pd"
   ]
  },
  {
   "cell_type": "code",
   "execution_count": 2,
   "metadata": {
    "collapsed": false,
    "deletable": true,
    "editable": true,
    "scrolled": true
   },
   "outputs": [
    {
     "data": {
      "text/html": [
       "<div>\n",
       "<style scoped>\n",
       "    .dataframe tbody tr th:only-of-type {\n",
       "        vertical-align: middle;\n",
       "    }\n",
       "\n",
       "    .dataframe tbody tr th {\n",
       "        vertical-align: top;\n",
       "    }\n",
       "\n",
       "    .dataframe thead th {\n",
       "        text-align: right;\n",
       "    }\n",
       "</style>\n",
       "<table border=\"1\" class=\"dataframe\">\n",
       "  <thead>\n",
       "    <tr style=\"text-align: right;\">\n",
       "      <th></th>\n",
       "      <th>id</th>\n",
       "      <th>nom_estab</th>\n",
       "      <th>raz_social</th>\n",
       "      <th>codigo_act</th>\n",
       "      <th>nombre_act</th>\n",
       "      <th>per_ocu</th>\n",
       "      <th>tipo_vial</th>\n",
       "      <th>nom_vial</th>\n",
       "      <th>tipo_v_e_1</th>\n",
       "      <th>nom_v_e_1</th>\n",
       "      <th>...</th>\n",
       "      <th>localidad</th>\n",
       "      <th>ageb</th>\n",
       "      <th>manzana</th>\n",
       "      <th>telefono</th>\n",
       "      <th>correoelec</th>\n",
       "      <th>www</th>\n",
       "      <th>tipoUniEco</th>\n",
       "      <th>latitud</th>\n",
       "      <th>longitud</th>\n",
       "      <th>fecha_alta</th>\n",
       "    </tr>\n",
       "  </thead>\n",
       "  <tbody>\n",
       "    <tr>\n",
       "      <th>0</th>\n",
       "      <td>6186029</td>\n",
       "      <td>MAQUINARIA Y CONSTRUCCIONES CAFA, S.A. DE C.V.</td>\n",
       "      <td>MAQUINARIA Y CONSTRUCCIONES CAFA, S.A. DE C.V.</td>\n",
       "      <td>212321</td>\n",
       "      <td>Minería de arena y grava para la construcción</td>\n",
       "      <td>11 a 30 personas</td>\n",
       "      <td>CARRETERA</td>\n",
       "      <td>CARRETERA FEDERAL LIBRE TRAMO AGUASCALIENTES J...</td>\n",
       "      <td>CALLE</td>\n",
       "      <td>NINGUNO</td>\n",
       "      <td>...</td>\n",
       "      <td>Cañada el Rodeo</td>\n",
       "      <td>004A</td>\n",
       "      <td>5</td>\n",
       "      <td>4499229222</td>\n",
       "      <td>CAFA@CAFA.COM.MX</td>\n",
       "      <td>WWW.CAFA.COM.MX</td>\n",
       "      <td>Fijo</td>\n",
       "      <td>21.906308</td>\n",
       "      <td>-102.456273</td>\n",
       "      <td>MARZO 2011</td>\n",
       "    </tr>\n",
       "    <tr>\n",
       "      <th>1</th>\n",
       "      <td>6186016</td>\n",
       "      <td>MATERIALES GERO</td>\n",
       "      <td>MATERIALES GERO  S.A. DE C.V.</td>\n",
       "      <td>212321</td>\n",
       "      <td>Minería de arena y grava para la construcción</td>\n",
       "      <td>11 a 30 personas</td>\n",
       "      <td>AVENIDA</td>\n",
       "      <td>LIBRAMIENTO CALVILLO-JALPA</td>\n",
       "      <td>CALLE</td>\n",
       "      <td>NINGUNO</td>\n",
       "      <td>...</td>\n",
       "      <td>Calvillo</td>\n",
       "      <td>0153</td>\n",
       "      <td>19</td>\n",
       "      <td>4959563563</td>\n",
       "      <td>NaN</td>\n",
       "      <td>NaN</td>\n",
       "      <td>Fijo</td>\n",
       "      <td>21.839377</td>\n",
       "      <td>-102.724058</td>\n",
       "      <td>DICIEMBRE 2014</td>\n",
       "    </tr>\n",
       "    <tr>\n",
       "      <th>2</th>\n",
       "      <td>6186020</td>\n",
       "      <td>MATERIALES PARA LA CONSTRUCCIÓN SIN NOMBRE</td>\n",
       "      <td>NaN</td>\n",
       "      <td>212321</td>\n",
       "      <td>Minería de arena y grava para la construcción</td>\n",
       "      <td>0 a 5 personas</td>\n",
       "      <td>BOULEVARD</td>\n",
       "      <td>BOULEVARD RODOLFO LANDEROS GALLEGOS</td>\n",
       "      <td>CALLE</td>\n",
       "      <td>NINGUNO</td>\n",
       "      <td>...</td>\n",
       "      <td>La Fragua</td>\n",
       "      <td>0064</td>\n",
       "      <td>800</td>\n",
       "      <td>4951081141</td>\n",
       "      <td>NaN</td>\n",
       "      <td>NaN</td>\n",
       "      <td>Fijo</td>\n",
       "      <td>21.873611</td>\n",
       "      <td>-102.674167</td>\n",
       "      <td>JULIO 2010</td>\n",
       "    </tr>\n",
       "    <tr>\n",
       "      <th>3</th>\n",
       "      <td>6186028</td>\n",
       "      <td>MATERIALES PUENTE NEGRO DE COSIO, S.A. DE C.V.</td>\n",
       "      <td>MATERIALES PUENTE NEGRO DE COSIO, S.A. DE C.V.</td>\n",
       "      <td>212321</td>\n",
       "      <td>Minería de arena y grava para la construcción</td>\n",
       "      <td>51 a 100 personas</td>\n",
       "      <td>AVENIDA</td>\n",
       "      <td>MORELOS</td>\n",
       "      <td>CALLE</td>\n",
       "      <td>IGNACIO ALLENDE PONIENTE</td>\n",
       "      <td>...</td>\n",
       "      <td>Rincón de Romos</td>\n",
       "      <td>0059</td>\n",
       "      <td>21</td>\n",
       "      <td>014659510588</td>\n",
       "      <td>PUENTENEGRO@PRODIGY.NET.MX</td>\n",
       "      <td>NaN</td>\n",
       "      <td>Fijo</td>\n",
       "      <td>22.230860</td>\n",
       "      <td>-102.320996</td>\n",
       "      <td>JULIO 2010</td>\n",
       "    </tr>\n",
       "    <tr>\n",
       "      <th>4</th>\n",
       "      <td>6186021</td>\n",
       "      <td>MATERIALES TRITURADOS DE AGUASCALIENTES, S.A. ...</td>\n",
       "      <td>MATERIALES TRITURADOS DE AGUASCALIENTES, S.A. ...</td>\n",
       "      <td>212321</td>\n",
       "      <td>Minería de arena y grava para la construcción</td>\n",
       "      <td>11 a 30 personas</td>\n",
       "      <td>CALLE</td>\n",
       "      <td>LIBERTAD</td>\n",
       "      <td>AVENIDA</td>\n",
       "      <td>CONVENCIÓN DE 1914 NORTE</td>\n",
       "      <td>...</td>\n",
       "      <td>Aguascalientes</td>\n",
       "      <td>0290</td>\n",
       "      <td>17</td>\n",
       "      <td>4499147441</td>\n",
       "      <td>MATRASA@AGUASCALIENTES.COM</td>\n",
       "      <td>WWW.MATRASA.COM.MX</td>\n",
       "      <td>Fijo</td>\n",
       "      <td>21.899400</td>\n",
       "      <td>-102.301028</td>\n",
       "      <td>JULIO 2010</td>\n",
       "    </tr>\n",
       "  </tbody>\n",
       "</table>\n",
       "<p>5 rows × 41 columns</p>\n",
       "</div>"
      ],
      "text/plain": [
       "        id                                          nom_estab  \\\n",
       "0  6186029     MAQUINARIA Y CONSTRUCCIONES CAFA, S.A. DE C.V.   \n",
       "1  6186016                                    MATERIALES GERO   \n",
       "2  6186020         MATERIALES PARA LA CONSTRUCCIÓN SIN NOMBRE   \n",
       "3  6186028     MATERIALES PUENTE NEGRO DE COSIO, S.A. DE C.V.   \n",
       "4  6186021  MATERIALES TRITURADOS DE AGUASCALIENTES, S.A. ...   \n",
       "\n",
       "                                          raz_social  codigo_act  \\\n",
       "0     MAQUINARIA Y CONSTRUCCIONES CAFA, S.A. DE C.V.      212321   \n",
       "1                      MATERIALES GERO  S.A. DE C.V.      212321   \n",
       "2                                                NaN      212321   \n",
       "3     MATERIALES PUENTE NEGRO DE COSIO, S.A. DE C.V.      212321   \n",
       "4  MATERIALES TRITURADOS DE AGUASCALIENTES, S.A. ...      212321   \n",
       "\n",
       "                                      nombre_act            per_ocu  \\\n",
       "0  Minería de arena y grava para la construcción   11 a 30 personas   \n",
       "1  Minería de arena y grava para la construcción   11 a 30 personas   \n",
       "2  Minería de arena y grava para la construcción     0 a 5 personas   \n",
       "3  Minería de arena y grava para la construcción  51 a 100 personas   \n",
       "4  Minería de arena y grava para la construcción   11 a 30 personas   \n",
       "\n",
       "   tipo_vial                                           nom_vial tipo_v_e_1  \\\n",
       "0  CARRETERA  CARRETERA FEDERAL LIBRE TRAMO AGUASCALIENTES J...      CALLE   \n",
       "1    AVENIDA                         LIBRAMIENTO CALVILLO-JALPA      CALLE   \n",
       "2  BOULEVARD                BOULEVARD RODOLFO LANDEROS GALLEGOS      CALLE   \n",
       "3    AVENIDA                                            MORELOS      CALLE   \n",
       "4      CALLE                                           LIBERTAD    AVENIDA   \n",
       "\n",
       "                  nom_v_e_1       ...              localidad  ageb manzana  \\\n",
       "0                   NINGUNO       ...        Cañada el Rodeo  004A       5   \n",
       "1                   NINGUNO       ...               Calvillo  0153      19   \n",
       "2                   NINGUNO       ...              La Fragua  0064     800   \n",
       "3  IGNACIO ALLENDE PONIENTE       ...        Rincón de Romos  0059      21   \n",
       "4  CONVENCIÓN DE 1914 NORTE       ...         Aguascalientes  0290      17   \n",
       "\n",
       "       telefono                  correoelec                 www tipoUniEco  \\\n",
       "0    4499229222            CAFA@CAFA.COM.MX     WWW.CAFA.COM.MX       Fijo   \n",
       "1    4959563563                         NaN                 NaN       Fijo   \n",
       "2    4951081141                         NaN                 NaN       Fijo   \n",
       "3  014659510588  PUENTENEGRO@PRODIGY.NET.MX                 NaN       Fijo   \n",
       "4    4499147441  MATRASA@AGUASCALIENTES.COM  WWW.MATRASA.COM.MX       Fijo   \n",
       "\n",
       "     latitud    longitud      fecha_alta  \n",
       "0  21.906308 -102.456273      MARZO 2011  \n",
       "1  21.839377 -102.724058  DICIEMBRE 2014  \n",
       "2  21.873611 -102.674167      JULIO 2010  \n",
       "3  22.230860 -102.320996      JULIO 2010  \n",
       "4  21.899400 -102.301028      JULIO 2010  \n",
       "\n",
       "[5 rows x 41 columns]"
      ]
     },
     "execution_count": 2,
     "metadata": {},
     "output_type": "execute_result"
    }
   ],
   "source": [
    "#file = pd.read_csv('minas.csv', sep=';')\n",
    "file = pd.read_csv('denue_inegi_21_.csv', sep=',',header=0)\n",
    "file=file.head(5)\n",
    "file"
   ]
  },
  {
   "cell_type": "code",
   "execution_count": 3,
   "metadata": {
    "collapsed": false,
    "deletable": true,
    "editable": true
   },
   "outputs": [
    {
     "name": "stdout",
     "output_type": "stream",
     "text": [
      "([-102.45627253, 21.90630822], u'MAQUINARIA Y CONSTRUCCIONES CAFA, S.A. DE C.V.')\n",
      "([-102.72405796, 21.83937726], u'MATERIALES GERO')\n",
      "([-102.67416667, 21.87361111], u'MATERIALES PARA LA CONSTRUCCI\\xc3\\u201cN SIN NOMBRE')\n",
      "([-102.32099578, 22.23086043], u'MATERIALES PUENTE NEGRO DE COSIO, S.A. DE C.V.')\n",
      "([-102.30102828, 21.89940035], u'MATERIALES TRITURADOS DE AGUASCALIENTES, S.A. DE C.V.')\n"
     ]
    }
   ],
   "source": [
    "for index, row in file.iterrows():\n",
    "    print ([row.longitud, row.latitud], row.nom_estab.decode('\"windows-1252\"', 'ignore'))"
   ]
  },
  {
   "cell_type": "code",
   "execution_count": 7,
   "metadata": {
    "collapsed": true,
    "deletable": true,
    "editable": true
   },
   "outputs": [],
   "source": [
    "m = folium.Map(location=[19.2499700, -103.7271400], zoom_start=5)\n"
   ]
  },
  {
   "cell_type": "code",
   "execution_count": 8,
   "metadata": {
    "collapsed": false,
    "deletable": true,
    "editable": true
   },
   "outputs": [
    {
     "name": "stdout",
     "output_type": "stream",
     "text": [
      "(21.90630822, -102.45627253)\n",
      "(21.83937726, -102.72405796)\n",
      "(21.87361111, -102.67416667)\n",
      "(22.23086043, -102.32099578)\n",
      "(21.89940035, -102.30102828)\n"
     ]
    }
   ],
   "source": [
    "for index, row in file.iterrows():\n",
    "    print(row.latitud, row.longitud)\n",
    "    folium.Marker(location=[row.latitud, row.longitud] ,popup=row.nom_estab.decode('\"windows-1252\"', 'ignore')             ).add_to(m)"
   ]
  },
  {
   "cell_type": "code",
   "execution_count": 9,
   "metadata": {
    "collapsed": false,
    "deletable": true,
    "editable": true,
    "scrolled": true
   },
   "outputs": [
    {
     "data": {
      "text/html": [
       "<div style=\"width:100%;\"><div style=\"position:relative;width:100%;height:0;padding-bottom:60%;\"><iframe src=\"data:text/html;charset=utf-8;base64,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\" style=\"position:absolute;width:100%;height:100%;left:0;top:0;border:none !important;\" allowfullscreen webkitallowfullscreen mozallowfullscreen></iframe></div></div>"
      ],
      "text/plain": [
       "<folium.folium.Map at 0x114c67d50>"
      ]
     },
     "execution_count": 9,
     "metadata": {},
     "output_type": "execute_result"
    }
   ],
   "source": [
    "m"
   ]
  },
  {
   "cell_type": "code",
   "execution_count": null,
   "metadata": {
    "collapsed": true,
    "deletable": true,
    "editable": true
   },
   "outputs": [],
   "source": []
  }
 ],
 "metadata": {
  "kernelspec": {
   "display_name": "Python 2",
   "language": "python",
   "name": "python2"
  },
  "language_info": {
   "codemirror_mode": {
    "name": "ipython",
    "version": 2
   },
   "file_extension": ".py",
   "mimetype": "text/x-python",
   "name": "python",
   "nbconvert_exporter": "python",
   "pygments_lexer": "ipython2",
   "version": "2.7.13"
  }
 },
 "nbformat": 4,
 "nbformat_minor": 2
}
